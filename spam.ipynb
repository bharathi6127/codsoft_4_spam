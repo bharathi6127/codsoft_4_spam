{
  "nbformat": 4,
  "nbformat_minor": 0,
  "metadata": {
    "colab": {
      "provenance": [],
      "authorship_tag": "ABX9TyMWOCzprNd+tB9Jh+dpHfrb",
      "include_colab_link": true
    },
    "kernelspec": {
      "name": "python3",
      "display_name": "Python 3"
    },
    "language_info": {
      "name": "python"
    }
  },
  "cells": [
    {
      "cell_type": "markdown",
      "metadata": {
        "id": "view-in-github",
        "colab_type": "text"
      },
      "source": [
        "<a href=\"https://colab.research.google.com/github/bharathi6127/codsoft_4_spam/blob/main/spam.ipynb\" target=\"_parent\"><img src=\"https://colab.research.google.com/assets/colab-badge.svg\" alt=\"Open In Colab\"/></a>"
      ]
    },
    {
      "cell_type": "markdown",
      "source": [
        "**SPAM SMS DETECTION**\n",
        "\n",
        "Build an AI model that can classify SMS messages as spam or\n",
        "legitimate. Use techniques like TF-IDF or word embeddings with\n",
        "classifiers like Naive Bayes, Logistic Regression, or Support Vector\n",
        "Machines to identify spam messages."
      ],
      "metadata": {
        "id": "rTUZp05VYuZB"
      }
    },
    {
      "cell_type": "markdown",
      "source": [
        "# Step-1 : Import Libraries"
      ],
      "metadata": {
        "id": "TgYlLKVAa5p6"
      }
    },
    {
      "cell_type": "code",
      "source": [
        "import pandas as pd\n",
        "from sklearn.feature_extraction.text import TfidfVectorizer\n",
        "from sklearn.model_selection import train_test_split\n",
        "from sklearn.naive_bayes import MultinomialNB\n",
        "from sklearn.linear_model import LogisticRegression\n",
        "from sklearn.svm import SVC\n",
        "from sklearn.metrics import accuracy_score, classification_report, confusion_matrix\n",
        "from sklearn.pipeline import Pipeline\n",
        "import nltk\n",
        "from nltk.corpus import stopwords\n",
        "import matplotlib.pyplot as plt\n",
        "import seaborn as sns"
      ],
      "metadata": {
        "id": "hcHwWGdmXp_G"
      },
      "execution_count": 1,
      "outputs": []
    },
    {
      "cell_type": "markdown",
      "source": [
        "# Step-2 : Download stopwords"
      ],
      "metadata": {
        "id": "W_A-c3mibOsL"
      }
    },
    {
      "cell_type": "code",
      "source": [
        "nltk.download('stopwords')"
      ],
      "metadata": {
        "colab": {
          "base_uri": "https://localhost:8080/"
        },
        "id": "kNwNGs-OXqBS",
        "outputId": "95f8a9a7-f2eb-43c3-ee5a-2ce17c39b8b9"
      },
      "execution_count": 2,
      "outputs": [
        {
          "output_type": "stream",
          "name": "stderr",
          "text": [
            "[nltk_data] Downloading package stopwords to /root/nltk_data...\n",
            "[nltk_data]   Unzipping corpora/stopwords.zip.\n"
          ]
        },
        {
          "output_type": "execute_result",
          "data": {
            "text/plain": [
              "True"
            ]
          },
          "metadata": {},
          "execution_count": 2
        }
      ]
    },
    {
      "cell_type": "markdown",
      "source": [
        "# Step-3 : Load the dataset"
      ],
      "metadata": {
        "id": "t8Ucqjfkba_k"
      }
    },
    {
      "cell_type": "code",
      "source": [
        "# Load the dataset\n",
        "data = pd.read_csv(\"/content/spam dataset.csv\", encoding='latin-1')\n"
      ],
      "metadata": {
        "id": "unrE9s4mYD9w"
      },
      "execution_count": 3,
      "outputs": []
    },
    {
      "cell_type": "code",
      "source": [
        "print(data.head())"
      ],
      "metadata": {
        "colab": {
          "base_uri": "https://localhost:8080/"
        },
        "id": "ArnQUxzvZIPs",
        "outputId": "032dd70b-f7ca-4cf4-f1ec-4f2cdcd53468"
      },
      "execution_count": 4,
      "outputs": [
        {
          "output_type": "stream",
          "name": "stdout",
          "text": [
            "     v1                                                 v2 Unnamed: 2  \\\n",
            "0   ham  Go until jurong point, crazy.. Available only ...        NaN   \n",
            "1   ham                      Ok lar... Joking wif u oni...        NaN   \n",
            "2  spam  Free entry in 2 a wkly comp to win FA Cup fina...        NaN   \n",
            "3   ham  U dun say so early hor... U c already then say...        NaN   \n",
            "4   ham  Nah I don't think he goes to usf, he lives aro...        NaN   \n",
            "\n",
            "  Unnamed: 3 Unnamed: 4  \n",
            "0        NaN        NaN  \n",
            "1        NaN        NaN  \n",
            "2        NaN        NaN  \n",
            "3        NaN        NaN  \n",
            "4        NaN        NaN  \n"
          ]
        }
      ]
    },
    {
      "cell_type": "code",
      "source": [
        "print(data.tail())"
      ],
      "metadata": {
        "colab": {
          "base_uri": "https://localhost:8080/"
        },
        "id": "YsllBMgLZIg_",
        "outputId": "4a590009-2e2e-41fe-9a95-846683f9c597"
      },
      "execution_count": 5,
      "outputs": [
        {
          "output_type": "stream",
          "name": "stdout",
          "text": [
            "        v1                                                 v2 Unnamed: 2  \\\n",
            "5567  spam  This is the 2nd time we have tried 2 contact u...        NaN   \n",
            "5568   ham              Will Ì_ b going to esplanade fr home?        NaN   \n",
            "5569   ham  Pity, * was in mood for that. So...any other s...        NaN   \n",
            "5570   ham  The guy did some bitching but I acted like i'd...        NaN   \n",
            "5571   ham                         Rofl. Its true to its name        NaN   \n",
            "\n",
            "     Unnamed: 3 Unnamed: 4  \n",
            "5567        NaN        NaN  \n",
            "5568        NaN        NaN  \n",
            "5569        NaN        NaN  \n",
            "5570        NaN        NaN  \n",
            "5571        NaN        NaN  \n"
          ]
        }
      ]
    },
    {
      "cell_type": "code",
      "source": [
        "print(data.shape)"
      ],
      "metadata": {
        "colab": {
          "base_uri": "https://localhost:8080/"
        },
        "id": "rJFTp5XZZwNx",
        "outputId": "e0d5d23e-e378-4966-b8d2-5b040fcc4759"
      },
      "execution_count": 6,
      "outputs": [
        {
          "output_type": "stream",
          "name": "stdout",
          "text": [
            "(5572, 5)\n"
          ]
        }
      ]
    },
    {
      "cell_type": "code",
      "source": [
        "print(data.info())"
      ],
      "metadata": {
        "colab": {
          "base_uri": "https://localhost:8080/"
        },
        "id": "VuTMFjE4Z4bs",
        "outputId": "89e9d787-073d-43d8-f3a1-ecc6beeec8bc"
      },
      "execution_count": 7,
      "outputs": [
        {
          "output_type": "stream",
          "name": "stdout",
          "text": [
            "<class 'pandas.core.frame.DataFrame'>\n",
            "RangeIndex: 5572 entries, 0 to 5571\n",
            "Data columns (total 5 columns):\n",
            " #   Column      Non-Null Count  Dtype \n",
            "---  ------      --------------  ----- \n",
            " 0   v1          5572 non-null   object\n",
            " 1   v2          5572 non-null   object\n",
            " 2   Unnamed: 2  50 non-null     object\n",
            " 3   Unnamed: 3  12 non-null     object\n",
            " 4   Unnamed: 4  6 non-null      object\n",
            "dtypes: object(5)\n",
            "memory usage: 217.8+ KB\n",
            "None\n"
          ]
        }
      ]
    },
    {
      "cell_type": "markdown",
      "source": [
        "# Step-4 : Preprocess the dataset"
      ],
      "metadata": {
        "id": "HLW87R9Zbxsc"
      }
    },
    {
      "cell_type": "code",
      "source": [
        "data = data[['v1', 'v2']]\n",
        "data.columns = ['label', 'message']\n",
        "\n",
        "# Encode the labels\n",
        "data['label'] = data['label'].map({'ham': 0, 'spam': 1})\n",
        "\n",
        "# Text processing\n",
        "stop_words = stopwords.words('english')\n",
        "tfidf = TfidfVectorizer(stop_words=stop_words)\n",
        "\n",
        "# Features and labels\n",
        "X = data['message']\n",
        "y = data['label']\n",
        "\n",
        "# Split the dataset\n",
        "X_train, X_test, y_train, y_test = train_test_split(X, y, test_size=0.2, random_state=42)"
      ],
      "metadata": {
        "colab": {
          "base_uri": "https://localhost:8080/"
        },
        "id": "_vYu5DL9YQeQ",
        "outputId": "987223de-40e0-4ed8-dd5d-34124a660297"
      },
      "execution_count": 8,
      "outputs": [
        {
          "output_type": "stream",
          "name": "stderr",
          "text": [
            "<ipython-input-8-f68c5c0b5c55>:5: SettingWithCopyWarning: \n",
            "A value is trying to be set on a copy of a slice from a DataFrame.\n",
            "Try using .loc[row_indexer,col_indexer] = value instead\n",
            "\n",
            "See the caveats in the documentation: https://pandas.pydata.org/pandas-docs/stable/user_guide/indexing.html#returning-a-view-versus-a-copy\n",
            "  data['label'] = data['label'].map({'ham': 0, 'spam': 1})\n"
          ]
        }
      ]
    },
    {
      "cell_type": "markdown",
      "source": [
        "# Step-5 : Define classifiers"
      ],
      "metadata": {
        "id": "UFa5pp9Dc7qD"
      }
    },
    {
      "cell_type": "code",
      "source": [
        "# Define classifiers\n",
        "classifiers = {\n",
        "    'Naive Bayes': MultinomialNB(),\n",
        "    'Logistic Regression': LogisticRegression(max_iter=1000),\n",
        "    'Support Vector Machine': SVC(kernel='linear')\n",
        "}\n"
      ],
      "metadata": {
        "id": "cpnckLRcYWD9"
      },
      "execution_count": 9,
      "outputs": []
    },
    {
      "cell_type": "markdown",
      "source": [
        "# Step-6 : Train and evaluate each classifier"
      ],
      "metadata": {
        "id": "UpZL09ZIbpmc"
      }
    },
    {
      "cell_type": "code",
      "source": [
        "for name, clf in classifiers.items():\n",
        "    print(f'\\nTraining {name}...')\n",
        "\n",
        "    # Create a pipeline\n",
        "    pipeline = Pipeline([\n",
        "        ('tfidf', TfidfVectorizer(stop_words=stop_words)),\n",
        "        ('clf', clf)\n",
        "    ])\n",
        "\n",
        "    # Train the model\n",
        "    pipeline.fit(X_train, y_train)\n",
        "\n",
        "    # Make predictions\n",
        "    y_pred = pipeline.predict(X_test)\n",
        "\n",
        "    # Evaluate the model\n",
        "    accuracy = accuracy_score(y_test, y_pred)\n",
        "    report = classification_report(y_test, y_pred, target_names=['Legitimate SMS', 'Spam SMS'])\n",
        "    conf_matrix = confusion_matrix(y_test, y_pred)\n",
        "\n",
        "    print(f'Accuracy: {accuracy:.4f}')\n",
        "    print('Classification Report:')\n",
        "    print(report)\n",
        "\n",
        "    # Plot confusion matrix\n",
        "    plt.figure(figsize=(6, 4))\n",
        "    sns.heatmap(conf_matrix, annot=True, fmt='d', cmap='Blues', xticklabels=['Legitimate SMS', 'Spam SMS'], yticklabels=['Legitimate SMS', 'Spam SMS'])\n",
        "    plt.title(f'{name} Confusion Matrix')\n",
        "    plt.xlabel('Predicted')\n",
        "    plt.ylabel('True')\n",
        "    plt.show()"
      ],
      "metadata": {
        "colab": {
          "base_uri": "https://localhost:8080/",
          "height": 1000
        },
        "id": "lVuMNQNyYiHM",
        "outputId": "018d52d8-6c1d-466f-acf8-c43f92aadaca"
      },
      "execution_count": 10,
      "outputs": [
        {
          "output_type": "stream",
          "name": "stdout",
          "text": [
            "\n",
            "Training Naive Bayes...\n",
            "Accuracy: 0.9704\n",
            "Classification Report:\n",
            "                precision    recall  f1-score   support\n",
            "\n",
            "Legitimate SMS       0.97      1.00      0.98       965\n",
            "      Spam SMS       1.00      0.78      0.88       150\n",
            "\n",
            "      accuracy                           0.97      1115\n",
            "     macro avg       0.98      0.89      0.93      1115\n",
            "  weighted avg       0.97      0.97      0.97      1115\n",
            "\n"
          ]
        },
        {
          "output_type": "display_data",
          "data": {
            "text/plain": [
              "<Figure size 600x400 with 2 Axes>"
            ],
            "image/png": "[encoded data removed]"
          },
          "metadata": {}
        },
        {
          "output_type": "stream",
          "name": "stdout",
          "text": [
            "\n",
            "Training Logistic Regression...\n",
            "Accuracy: 0.9561\n",
            "Classification Report:\n",
            "                precision    recall  f1-score   support\n",
            "\n",
            "Legitimate SMS       0.96      0.99      0.98       965\n",
            "      Spam SMS       0.95      0.71      0.81       150\n",
            "\n",
            "      accuracy                           0.96      1115\n",
            "     macro avg       0.96      0.85      0.89      1115\n",
            "  weighted avg       0.96      0.96      0.95      1115\n",
            "\n"
          ]
        },
        {
          "output_type": "display_data",
          "data": {
            "text/plain": [
              "<Figure size 600x400 with 2 Axes>"
            ],
            "image/png": "[encoded data removed]"
          },
          "metadata": {}
        },
        {
          "output_type": "stream",
          "name": "stdout",
          "text": [
            "\n",
            "Training Support Vector Machine...\n",
            "Accuracy: 0.9803\n",
            "Classification Report:\n",
            "                precision    recall  f1-score   support\n",
            "\n",
            "Legitimate SMS       0.98      1.00      0.99       965\n",
            "      Spam SMS       0.98      0.87      0.92       150\n",
            "\n",
            "      accuracy                           0.98      1115\n",
            "     macro avg       0.98      0.94      0.96      1115\n",
            "  weighted avg       0.98      0.98      0.98      1115\n",
            "\n"
          ]
        },
        {
          "output_type": "display_data",
          "data": {
            "text/plain": [
              "<Figure size 600x400 with 2 Axes>"
            ],
            "image/png": "[encoded data removed]"
          },
          "metadata": {}
        }
      ]
    },
    {
      "cell_type": "markdown",
      "source": [
        "# Example usage of the trained model (Naive Bayes)"
      ],
      "metadata": {
        "id": "532fZD1KdLCf"
      }
    },
    {
      "cell_type": "code",
      "source": [
        "# Example usage of the trained model (Naive Bayes)\n",
        "example_texts = [\"Congratulations! You've won a free ticket to Bahamas. Call now!\",\n",
        "                 \"Hey, are we still meeting for lunch tomorrow?\"]\n",
        "\n",
        "pipeline = Pipeline([\n",
        "    ('tfidf', TfidfVectorizer(stop_words=stop_words)),\n",
        "    ('clf', MultinomialNB())\n",
        "])\n",
        "pipeline.fit(X_train, y_train)\n",
        "example_preds = pipeline.predict(example_texts)\n",
        "\n",
        "print(\"\\nExample Predictions:\")\n",
        "for text, pred in zip(example_texts, example_preds):\n",
        "    print(f'Text: {text}\\nPrediction: {\"Spam\" if pred else \"Ham\"}\\n')"
      ],
      "metadata": {
        "colab": {
          "base_uri": "https://localhost:8080/"
        },
        "id": "g63H9NsoYr8N",
        "outputId": "55c1e918-0e72-4e93-f0f5-219464ee1e1d"
      },
      "execution_count": 11,
      "outputs": [
        {
          "output_type": "stream",
          "name": "stdout",
          "text": [
            "\n",
            "Example Predictions:\n",
            "Text: Congratulations! You've won a free ticket to Bahamas. Call now!\n",
            "Prediction: Ham\n",
            "\n",
            "Text: Hey, are we still meeting for lunch tomorrow?\n",
            "Prediction: Ham\n",
            "\n"
          ]
        }
      ]
    },
    {
      "cell_type": "code",
      "source": [],
      "metadata": {
        "id": "LLF5uj1ylg75"
      },
      "execution_count": null,
      "outputs": []
    }
  ]
}